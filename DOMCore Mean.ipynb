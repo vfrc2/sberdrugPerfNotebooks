{
 "cells": [
  {
   "cell_type": "code",
   "execution_count": 1,
   "metadata": {},
   "outputs": [],
   "source": [
    "import pandas as pd\n",
    "\n",
    "def mean(df):\n",
    "    baseMean = df.groupby(['id', 'phase']).mean();\n",
    "    return pd.DataFrame(baseMean, columns=['actualDuration', 'baseDuration'])\n"
   ]
  },
  {
   "cell_type": "code",
   "execution_count": 2,
   "metadata": {},
   "outputs": [],
   "source": [
    "base = pd.read_csv('baseLineTest.csv', sep=';');\n",
    "baseMean = mean(base)"
   ]
  },
  {
   "cell_type": "code",
   "execution_count": 3,
   "metadata": {},
   "outputs": [],
   "source": [
    "current = pd.read_csv('current.csv', sep=';');\n",
    "curMean = mean(current)"
   ]
  },
  {
   "cell_type": "code",
   "execution_count": 13,
   "metadata": {},
   "outputs": [
    {
     "data": {
      "text/html": [
       "<div>\n",
       "<style scoped>\n",
       "    .dataframe tbody tr th:only-of-type {\n",
       "        vertical-align: middle;\n",
       "    }\n",
       "\n",
       "    .dataframe tbody tr th {\n",
       "        vertical-align: top;\n",
       "    }\n",
       "\n",
       "    .dataframe thead th {\n",
       "        text-align: right;\n",
       "    }\n",
       "</style>\n",
       "<table border=\"1\" class=\"dataframe\">\n",
       "  <thead>\n",
       "    <tr style=\"text-align: right;\">\n",
       "      <th></th>\n",
       "      <th></th>\n",
       "      <th>actualDuration_base</th>\n",
       "      <th>baseDuration_base</th>\n",
       "      <th>actualDuration_current</th>\n",
       "      <th>baseDuration_current</th>\n",
       "      <th>actualDuration_diff</th>\n",
       "      <th>baseDuration_diff</th>\n",
       "    </tr>\n",
       "    <tr>\n",
       "      <th>id</th>\n",
       "      <th>phase</th>\n",
       "      <th></th>\n",
       "      <th></th>\n",
       "      <th></th>\n",
       "      <th></th>\n",
       "      <th></th>\n",
       "      <th></th>\n",
       "    </tr>\n",
       "  </thead>\n",
       "  <tbody>\n",
       "    <tr>\n",
       "      <th rowspan=\"2\" valign=\"top\">dom-core-form</th>\n",
       "      <th>mount</th>\n",
       "      <td>243.354996</td>\n",
       "      <td>194.234996</td>\n",
       "      <td>243.354996</td>\n",
       "      <td>194.234996</td>\n",
       "      <td>0.0</td>\n",
       "      <td>0.0</td>\n",
       "    </tr>\n",
       "    <tr>\n",
       "      <th>update</th>\n",
       "      <td>91.790577</td>\n",
       "      <td>87.565769</td>\n",
       "      <td>91.790577</td>\n",
       "      <td>87.565769</td>\n",
       "      <td>0.0</td>\n",
       "      <td>0.0</td>\n",
       "    </tr>\n",
       "    <tr>\n",
       "      <th>dom-core-store</th>\n",
       "      <th>get-render-tree</th>\n",
       "      <td>0.966535</td>\n",
       "      <td>NaN</td>\n",
       "      <td>0.966535</td>\n",
       "      <td>NaN</td>\n",
       "      <td>0.0</td>\n",
       "      <td>NaN</td>\n",
       "    </tr>\n",
       "    <tr>\n",
       "      <th>dom-core-test</th>\n",
       "      <th>tick</th>\n",
       "      <td>NaN</td>\n",
       "      <td>NaN</td>\n",
       "      <td>NaN</td>\n",
       "      <td>NaN</td>\n",
       "      <td>NaN</td>\n",
       "      <td>NaN</td>\n",
       "    </tr>\n",
       "  </tbody>\n",
       "</table>\n",
       "</div>"
      ],
      "text/plain": [
       "                                actualDuration_base  baseDuration_base  \\\n",
       "id             phase                                                     \n",
       "dom-core-form  mount                     243.354996         194.234996   \n",
       "               update                     91.790577          87.565769   \n",
       "dom-core-store get-render-tree             0.966535                NaN   \n",
       "dom-core-test  tick                             NaN                NaN   \n",
       "\n",
       "                                actualDuration_current  baseDuration_current  \\\n",
       "id             phase                                                           \n",
       "dom-core-form  mount                        243.354996            194.234996   \n",
       "               update                        91.790577             87.565769   \n",
       "dom-core-store get-render-tree                0.966535                   NaN   \n",
       "dom-core-test  tick                                NaN                   NaN   \n",
       "\n",
       "                                actualDuration_diff  baseDuration_diff  \n",
       "id             phase                                                    \n",
       "dom-core-form  mount                            0.0                0.0  \n",
       "               update                           0.0                0.0  \n",
       "dom-core-store get-render-tree                  0.0                NaN  \n",
       "dom-core-test  tick                             NaN                NaN  "
      ]
     },
     "metadata": {},
     "output_type": "display_data"
    }
   ],
   "source": [
    "result = pd.merge(baseMean, curMean, left_index=True, right_index=True, suffixes=('_base', '_current'))\n",
    "result['actualDuration_diff'] = result['actualDuration_base'] - result['actualDuration_current'];\n",
    "result['baseDuration_diff'] = result['baseDuration_base'] - result['baseDuration_current'];\n",
    "\n",
    "display(result)\n",
    "\n"
   ]
  },
  {
   "cell_type": "code",
   "execution_count": null,
   "metadata": {},
   "outputs": [],
   "source": []
  }
 ],
 "metadata": {
  "kernelspec": {
   "display_name": "Python 3",
   "language": "python",
   "name": "python3"
  },
  "language_info": {
   "codemirror_mode": {
    "name": "ipython",
    "version": 3
   },
   "file_extension": ".py",
   "mimetype": "text/x-python",
   "name": "python",
   "nbconvert_exporter": "python",
   "pygments_lexer": "ipython3",
   "version": "3.8.6"
  }
 },
 "nbformat": 4,
 "nbformat_minor": 4
}
